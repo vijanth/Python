{
  "nbformat": 4,
  "nbformat_minor": 0,
  "metadata": {
    "colab": {
      "provenance": [],
      "authorship_tag": "ABX9TyN+5jxKsz8/PMsJy+UEntZa",
      "include_colab_link": true
    },
    "kernelspec": {
      "display_name": "Python 3",
      "name": "python3"
    },
    "language_info": {
      "name": "python"
    }
  },
  "cells": [
    {
      "cell_type": "markdown",
      "metadata": {
        "id": "view-in-github",
        "colab_type": "text"
      },
      "source": [
        "<a href=\"https://colab.research.google.com/github/vijanth/Python/blob/master/Copy_of_LabNumericalDifference.ipynb\" target=\"_parent\"><img src=\"https://colab.research.google.com/assets/colab-badge.svg\" alt=\"Open In Colab\"/></a>"
      ]
    },
    {
      "cell_type": "markdown",
      "metadata": {
        "id": "r5XfV-nzcIs5"
      },
      "source": [
        "Lab 1: Numerical Diferrentiation - Central Difference (Richardson Extrapolation)"
      ]
    },
    {
      "cell_type": "markdown",
      "metadata": {
        "id": "dgXPfdjEc9lH"
      },
      "source": [
        "This function 1\n",
        "\\begin {equation}\n",
        "y = x^3 +2x^2 - 8x - 9\n",
        "\\end {equation}"
      ]
    },
    {
      "cell_type": "code",
      "metadata": {
        "colab": {
          "base_uri": "https://localhost:8080/",
          "height": 334
        },
        "id": "tzhpVg_PXoFU",
        "outputId": "e5f55bd9-9029-470f-c6b0-c6a4d2cfb70d"
      },
      "source": [
        "def func1(x):\n",
        "  return x**3+2*x**2-8*x - 10\n",
        "\n",
        "# Simple plot for 3rd order Cubic function\n",
        "import matplotlib.pyplot as pll\n",
        "import numpy as npp\n",
        "\n",
        "x = npp.arange(-5,5,0.05)\n",
        "\n",
        "f1 = func1(x) #taking function f1 as example of function 1\n",
        "pll.plot(x,f1, label = \"label f1\")\n",
        "pll.legend()\n",
        "pll.show()\n",
        "pll.savefig('plotF1.pdf') \n",
        "\n",
        "# This only function -, Central Difference Function.\n",
        "x_init = float((input(\"Enter initial guess value for x ==>\")))\n",
        "print(\"The value of x initial is ==>\", x_init)\n",
        "h = 0.005*x_init #1% of x_init value\n",
        "\n",
        "df1 = (func1(x_init+h) - func1(x_init-h))/(2*h)\n",
        "print (\"The Differentiation value for\", x_init, \"is\", \"%.2f\" %df1)\n"
      ],
      "execution_count": 4,
      "outputs": [
        {
          "output_type": "display_data",
          "data": {
            "text/plain": [
              "<Figure size 432x288 with 1 Axes>"
            ],
            "image/png": "[encoded data removed]"
          },
          "metadata": {
            "needs_background": "light"
          }
        },
        {
          "output_type": "stream",
          "name": "stdout",
          "text": [
            "Enter initial guess value for x ==>3.0\n",
            "The value of x initial is ==> 3.0\n",
            "The Differentiation value for 3.0 is 31.00\n"
          ]
        },
        {
          "output_type": "display_data",
          "data": {
            "text/plain": [
              "<Figure size 432x288 with 0 Axes>"
            ]
          },
          "metadata": {}
        }
      ]
    },
    {
      "cell_type": "code",
      "source": [],
      "metadata": {
        "id": "SA580sJQwHVm"
      },
      "execution_count": null,
      "outputs": []
    },
    {
      "cell_type": "code",
      "metadata": {
        "colab": {
          "base_uri": "https://localhost:8080/",
          "height": 334
        },
        "id": "HErL3rvXeZbf",
        "outputId": "70d970d7-958e-4a14-e7b3-c19971b5d97c"
      },
      "source": [
        "def func2(x,y):\n",
        "  return 3*x*y +2*y**2 + x**2 -2\n",
        "\n",
        "# Simple plot for 3rd order Cubic function\n",
        "import matplotlib.pyplot as pll\n",
        "import numpy as npp\n",
        "\n",
        "x = npp.arange(-10,10,0.05)\n",
        "y = npp.arange(-10,10,0.05)\n",
        "\n",
        "f2 = func2(x,y) #taking function f1 as example of function 1\n",
        "pll.plot(x,y,f2, label = \"label f2\")\n",
        "pll.legend()\n",
        "pll.show()\n",
        "\n",
        "# This only function -, Central Difference Function (partial differentiation)\n",
        "x_init = float((input(\"Enter initial guess value for x ==>\")))\n",
        "hx = 0.01*x_init #1% of x_init value\n",
        "y_init = float((input(\"Enter initial guess value for y ==>\")))\n",
        "hy = 0.01*y_init #1% of x_init value\n",
        "\n",
        "df1x = (func2(x_init+hx,y_init) - func2(x_init-hx,y_init))/(2*hx)\n",
        "print (\"The Differentiation of x value for\", x_init, \"is\", df1x)\n",
        "df1y = (func2(x_init,y_init+hy) - func2(x_init,y_init-hy))/(2*hy)\n",
        "print (\"The Differentiation of y value for\", y_init, \"is\", df1y)"
      ],
      "execution_count": null,
      "outputs": [
        {
          "output_type": "display_data",
          "data": {
            "text/plain": [
              "<Figure size 432x288 with 1 Axes>"
            ],
            "image/png": "[encoded data removed]"
          },
          "metadata": {
            "needs_background": "light"
          }
        },
        {
          "output_type": "stream",
          "name": "stdout",
          "text": [
            "Enter initial guess value for x ==>3.0\n",
            "Enter initial guess value for y ==>5.0\n",
            "The Differentiation of x value for 3.0 is 20.99999999999985\n",
            "The Differentiation of y value for 5.0 is 28.999999999999773\n"
          ]
        }
      ]
    },
    {
      "cell_type": "code",
      "metadata": {
        "colab": {
          "base_uri": "https://localhost:8080/",
          "height": 437
        },
        "id": "O5n3zHoFLF8K",
        "outputId": "391ecec5-adfc-4364-8e34-900e19fa1ace"
      },
      "source": [
        "# Numerical Difference \n",
        "import matplotlib.pyplot as pll\n",
        "import numpy as npp\n",
        "import timeit\n",
        "\n",
        "def func2(x,y):\n",
        "  return 3*x*y +2*y**2 + x**2 -2\n",
        "\n",
        "def CentralDiff(xi,yi,hx,hy):\n",
        " df1x = (func2(xi+hx,yi) - func2(xi-hx,yi))/(2*hx)\n",
        " print (\"The Differentiation of x value for\", xi, \"is\", df1x)\n",
        " df1y = (func2(xi,yi+hy) - func2(xi,yi-hy))/(2*hy)\n",
        " print (\"The Differentiation of y value for\", yi, \"is\", df1y)\n",
        " return (df1x,df1y)\n",
        "\n",
        "x = npp.arange(-5,5,0.05)\n",
        "y = npp.arange(-5,5,0.05)\n",
        "f2 = func2(x,y) #taking function f1 as example of function 1\n",
        "pll.plot(x,y,f2, label = \"label f2\")\n",
        "pll.legend()\n",
        "pll.show()\n",
        "\n",
        "# This only function -, Central Difference Function (partial differentiation)\n",
        "x_init = float((input(\"Enter initial guess value for x ==>\")))\n",
        "y_init = float((input(\"Enter initial guess value for y ==>\")))\n",
        "\n",
        "st1 = timeit.timeit()\n",
        "[dfx1, dfy1] = CentralDiff(x_init,y_init,0.01*x_init,0.01*y_init)\n",
        "et1 = timeit.timeit()\n",
        "print (\"The time taken for 1st Central Diff =\", et1-st1)\n",
        "\n",
        "st2 = timeit.timeit()\n",
        "[dfx2, dfy2] = CentralDiff(x_init,y_init,0.005*x_init,0.005*y_init)\n",
        "et2 = timeit.timeit()\n",
        "print (\"The time taken for 2nd Central Diff =\", et2-st2)\n",
        "\n",
        "print (\"The Richarson Extrapolation for dfx\", (4*dfx2 - dfx1)/3)\n",
        "print (\"The Richarson Extrapolation for dfy\", (4*dfy2 - dfy1)/3)"
      ],
      "execution_count": null,
      "outputs": [
        {
          "output_type": "display_data",
          "data": {
            "image/png": "[encoded data removed]",
            "text/plain": [
              "<Figure size 432x288 with 1 Axes>"
            ]
          },
          "metadata": {
            "needs_background": "light"
          }
        },
        {
          "output_type": "stream",
          "name": "stdout",
          "text": [
            "Enter initial guess value for x ==>2\n",
            "Enter initial guess value for y ==>3\n",
            "The Differentiation of x value for 2.0 is 12.9999999999999\n",
            "The Differentiation of y value for 3.0 is 17.999999999999854\n",
            "The time taken for 1st Central Diff = -0.0021467589995154412\n",
            "The Differentiation of x value for 2.0 is 13.000000000000256\n",
            "The Differentiation of y value for 3.0 is 17.99999999999997\n",
            "The time taken for 2nd Central Diff = 0.000649344999146706\n",
            "The Richarson Extrapolation for dfx 13.000000000000375\n",
            "The Richarson Extrapolation for dfy 18.00000000000001\n"
          ]
        }
      ]
    },
    {
      "cell_type": "code",
      "metadata": {
        "colab": {
          "base_uri": "https://localhost:8080/",
          "height": 714
        },
        "id": "vxzn4nz-TUgG",
        "outputId": "8f400da3-ba3d-47cf-bcf4-bfefc327210b"
      },
      "source": [
        "# Numerical Difference [partial difference with thread]\n",
        "from threading import Thread\n",
        "import matplotlib.pyplot as pll\n",
        "import numpy as npp\n",
        "import timeit\n",
        "\n",
        "\n",
        "def func2(x,y):\n",
        "  return 3*x*y +2*y**2 + x**2 -2\n",
        "\n",
        "def CentralDiff(xi,yi,hx,hy):\n",
        " dfx = (func2(xi+hx,yi) - func2(xi-hx,yi))/(2*hx)\n",
        " print (\"The Differentiation of x value for\", xi, \"is\", dfx)\n",
        " dfy = (func2(xi,yi+hy) - func2(xi,yi-hy))/(2*hy)\n",
        " print (\"The Differentiation of y value for\", yi, \"is\", dfy)\n",
        " return [dfx,dfy]\n",
        "\n",
        "x = npp.arange(-5,5,0.05)\n",
        "y = npp.arange(-5,5,0.05)\n",
        "f2 = func2(x,y) #taking function f1 as example of function 1\n",
        "pll.plot(x,y,f2, label = \"label f2\")\n",
        "pll.legend()\n",
        "pll.show()\n",
        "\n",
        "# This only function -, Central Difference Function (partial differentiation)\n",
        "x_init = float((input(\"Enter initial guess value for x ==>\")))\n",
        "y_init = float((input(\"Enter initial guess value for y ==>\")))\n",
        "\n",
        "q1 = queue.Queue()\n",
        "t1 =Thread(target=CentralDiff,args =(x_init,y_init,0.01*x_init,0.01*y_init))\n",
        "print('Thread -1 Started...')\n",
        "t1.start()\n",
        "t1.join()\n",
        "xg = q1.get()\n",
        "print(\"\\nline 34\", xg)\n",
        "\n",
        "q2 = queue.Queue()\n",
        "t2 =Thread(target=CentralDiff,args =(x_init,y_init,0.005*x_init,0.005*y_init))\n",
        "t2.start()\n",
        "print('Thread -2 Started...')\n",
        "t2.join()\n",
        "yg = q2.get()\n",
        "print(\"\\nLine 37\", yg)\n",
        "\n",
        "#print (\"The Richarson Extrapolation for dfx\", (4*dfx2 - dfx1)/3)\n",
        "#print (\"The Richarson Extrapolation for dfy\", (4*dfy2 - dfy1)/3)"
      ],
      "execution_count": null,
      "outputs": [
        {
          "output_type": "display_data",
          "data": {
            "image/png": "[encoded data removed]",
            "text/plain": [
              "<Figure size 432x288 with 1 Axes>"
            ]
          },
          "metadata": {
            "needs_background": "light"
          }
        },
        {
          "output_type": "stream",
          "name": "stdout",
          "text": [
            "Enter initial guess value for x ==>2\n",
            "Enter initial guess value for y ==>3\n",
            "Thread -1 Started...\n",
            "The Differentiation of x value for 2.0 is 12.9999999999999\n",
            "The Differentiation of y value for 3.0 is 17.999999999999854\n"
          ]
        },
        {
          "output_type": "error",
          "ename": "KeyboardInterrupt",
          "evalue": "ignored",
          "traceback": [
            "\u001b[0;31m---------------------------------------------------------------------------\u001b[0m",
            "\u001b[0;31mKeyboardInterrupt\u001b[0m                         Traceback (most recent call last)",
            "\u001b[0;32m<ipython-input-12-16dd1f6c62f5>\u001b[0m in \u001b[0;36m<module>\u001b[0;34m()\u001b[0m\n\u001b[1;32m     32\u001b[0m \u001b[0mt1\u001b[0m\u001b[0;34m.\u001b[0m\u001b[0mstart\u001b[0m\u001b[0;34m(\u001b[0m\u001b[0;34m)\u001b[0m\u001b[0;34m\u001b[0m\u001b[0;34m\u001b[0m\u001b[0m\n\u001b[1;32m     33\u001b[0m \u001b[0mt1\u001b[0m\u001b[0;34m.\u001b[0m\u001b[0mjoin\u001b[0m\u001b[0;34m(\u001b[0m\u001b[0;34m)\u001b[0m\u001b[0;34m\u001b[0m\u001b[0;34m\u001b[0m\u001b[0m\n\u001b[0;32m---> 34\u001b[0;31m \u001b[0mxg\u001b[0m \u001b[0;34m=\u001b[0m \u001b[0mq1\u001b[0m\u001b[0;34m.\u001b[0m\u001b[0mget\u001b[0m\u001b[0;34m(\u001b[0m\u001b[0;34m)\u001b[0m\u001b[0;34m\u001b[0m\u001b[0;34m\u001b[0m\u001b[0m\n\u001b[0m\u001b[1;32m     35\u001b[0m \u001b[0mprint\u001b[0m\u001b[0;34m(\u001b[0m\u001b[0;34m\"\\nline 34\"\u001b[0m\u001b[0;34m,\u001b[0m \u001b[0mxg\u001b[0m\u001b[0;34m)\u001b[0m\u001b[0;34m\u001b[0m\u001b[0;34m\u001b[0m\u001b[0m\n\u001b[1;32m     36\u001b[0m \u001b[0;34m\u001b[0m\u001b[0m\n",
            "\u001b[0;32m/usr/lib/python3.7/queue.py\u001b[0m in \u001b[0;36mget\u001b[0;34m(self, block, timeout)\u001b[0m\n\u001b[1;32m    168\u001b[0m             \u001b[0;32melif\u001b[0m \u001b[0mtimeout\u001b[0m \u001b[0;32mis\u001b[0m \u001b[0;32mNone\u001b[0m\u001b[0;34m:\u001b[0m\u001b[0;34m\u001b[0m\u001b[0;34m\u001b[0m\u001b[0m\n\u001b[1;32m    169\u001b[0m                 \u001b[0;32mwhile\u001b[0m \u001b[0;32mnot\u001b[0m \u001b[0mself\u001b[0m\u001b[0;34m.\u001b[0m\u001b[0m_qsize\u001b[0m\u001b[0;34m(\u001b[0m\u001b[0;34m)\u001b[0m\u001b[0;34m:\u001b[0m\u001b[0;34m\u001b[0m\u001b[0;34m\u001b[0m\u001b[0m\n\u001b[0;32m--> 170\u001b[0;31m                     \u001b[0mself\u001b[0m\u001b[0;34m.\u001b[0m\u001b[0mnot_empty\u001b[0m\u001b[0;34m.\u001b[0m\u001b[0mwait\u001b[0m\u001b[0;34m(\u001b[0m\u001b[0;34m)\u001b[0m\u001b[0;34m\u001b[0m\u001b[0;34m\u001b[0m\u001b[0m\n\u001b[0m\u001b[1;32m    171\u001b[0m             \u001b[0;32melif\u001b[0m \u001b[0mtimeout\u001b[0m \u001b[0;34m<\u001b[0m \u001b[0;36m0\u001b[0m\u001b[0;34m:\u001b[0m\u001b[0;34m\u001b[0m\u001b[0;34m\u001b[0m\u001b[0m\n\u001b[1;32m    172\u001b[0m                 \u001b[0;32mraise\u001b[0m \u001b[0mValueError\u001b[0m\u001b[0;34m(\u001b[0m\u001b[0;34m\"'timeout' must be a non-negative number\"\u001b[0m\u001b[0;34m)\u001b[0m\u001b[0;34m\u001b[0m\u001b[0;34m\u001b[0m\u001b[0m\n",
            "\u001b[0;32m/usr/lib/python3.7/threading.py\u001b[0m in \u001b[0;36mwait\u001b[0;34m(self, timeout)\u001b[0m\n\u001b[1;32m    294\u001b[0m         \u001b[0;32mtry\u001b[0m\u001b[0;34m:\u001b[0m    \u001b[0;31m# restore state no matter what (e.g., KeyboardInterrupt)\u001b[0m\u001b[0;34m\u001b[0m\u001b[0;34m\u001b[0m\u001b[0m\n\u001b[1;32m    295\u001b[0m             \u001b[0;32mif\u001b[0m \u001b[0mtimeout\u001b[0m \u001b[0;32mis\u001b[0m \u001b[0;32mNone\u001b[0m\u001b[0;34m:\u001b[0m\u001b[0;34m\u001b[0m\u001b[0;34m\u001b[0m\u001b[0m\n\u001b[0;32m--> 296\u001b[0;31m                 \u001b[0mwaiter\u001b[0m\u001b[0;34m.\u001b[0m\u001b[0macquire\u001b[0m\u001b[0;34m(\u001b[0m\u001b[0;34m)\u001b[0m\u001b[0;34m\u001b[0m\u001b[0;34m\u001b[0m\u001b[0m\n\u001b[0m\u001b[1;32m    297\u001b[0m                 \u001b[0mgotit\u001b[0m \u001b[0;34m=\u001b[0m \u001b[0;32mTrue\u001b[0m\u001b[0;34m\u001b[0m\u001b[0;34m\u001b[0m\u001b[0m\n\u001b[1;32m    298\u001b[0m             \u001b[0;32melse\u001b[0m\u001b[0;34m:\u001b[0m\u001b[0;34m\u001b[0m\u001b[0;34m\u001b[0m\u001b[0m\n",
            "\u001b[0;31mKeyboardInterrupt\u001b[0m: "
          ]
        }
      ]
    },
    {
      "cell_type": "markdown",
      "metadata": {
        "id": "tsLRi4LihZUT"
      },
      "source": []
    }
  ]
}