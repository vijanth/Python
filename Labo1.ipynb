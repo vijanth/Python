{
  "nbformat": 4,
  "nbformat_minor": 0,
  "metadata": {
    "colab": {
      "name": "Labo1.ipynb",
      "provenance": [],
      "authorship_tag": "ABX9TyN2n9+Yqm0zlCvELETyoVYk",
      "include_colab_link": true
    },
    "kernelspec": {
      "name": "python3",
      "display_name": "Python 3"
    },
    "language_info": {
      "name": "python"
    }
  },
  "cells": [
    {
      "cell_type": "markdown",
      "metadata": {
        "id": "view-in-github",
        "colab_type": "text"
      },
      "source": [
        "<a href=\"https://colab.research.google.com/github/vijanth/Python/blob/master/Labo1.ipynb\" target=\"_parent\"><img src=\"https://colab.research.google.com/assets/colab-badge.svg\" alt=\"Open In Colab\"/></a>"
      ]
    },
    {
      "cell_type": "code",
      "metadata": {
        "id": "9eMIbD8jcA6H"
      },
      "source": [
        ""
      ],
      "execution_count": null,
      "outputs": []
    },
    {
      "cell_type": "code",
      "metadata": {
        "colab": {
          "base_uri": "https://localhost:8080/",
          "height": 265
        },
        "id": "5sPzvVA0kmR0",
        "outputId": "81f09642-15bd-47c1-efed-bb6ec4b9d250"
      },
      "source": [
        "# Simple plot for 3rd order Cubic function\n",
        "import matplotlib.pyplot as pll\n",
        "import numpy as npp\n",
        "x = npp.arange(-5,5,0.05)\n",
        "f = x**3+2*x**2-8*x - 10\n",
        "f1 = 3*x**3-3*x**2-9*x - 3\n",
        "pll.plot(x,f, label = \"label f\")\n",
        "pll.plot(x,f1, label = \"label f2\")\n",
        "pll.legend()\n",
        "pll.show()\n",
        "# This only function -, let do simple root finding function.\n",
        " "
      ],
      "execution_count": null,
      "outputs": [
        {
          "output_type": "display_data",
          "data": {
            "image/png": "[encoded data removed]",
            "text/plain": [
              "<Figure size 432x288 with 1 Axes>"
            ]
          },
          "metadata": {
            "needs_background": "light"
          }
        }
      ]
    },
    {
      "cell_type": "code",
      "metadata": {
        "id": "Piiw3n_eknfA"
      },
      "source": [
        ""
      ],
      "execution_count": null,
      "outputs": []
    },
    {
      "cell_type": "markdown",
      "metadata": {
        "id": "r5XfV-nzcIs5"
      },
      "source": [
        "Lab 1: On Secant Method for Multiple Roots: With Thread"
      ]
    },
    {
      "cell_type": "code",
      "metadata": {
        "id": "Taxbrii4cUeg"
      },
      "source": [
        ""
      ],
      "execution_count": 39,
      "outputs": []
    },
    {
      "cell_type": "markdown",
      "metadata": {
        "id": "tsLRi4LihZUT"
      },
      "source": [
        ""
      ]
    }
  ]
}