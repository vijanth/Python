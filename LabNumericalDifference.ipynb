{
  "nbformat": 4,
  "nbformat_minor": 0,
  "metadata": {
    "colab": {
      "name": "LabNumericalDifference.ipynb",
      "provenance": [],
      "authorship_tag": "ABX9TyNGJ571Gm3Ln5tbFSaSAJMM",
      "include_colab_link": true
    },
    "kernelspec": {
      "display_name": "Python 3",
      "name": "python3"
    },
    "language_info": {
      "name": "python"
    }
  },
  "cells": [
    {
      "cell_type": "markdown",
      "metadata": {
        "id": "view-in-github",
        "colab_type": "text"
      },
      "source": [
        "<a href=\"https://colab.research.google.com/github/vijanth/Python/blob/master/LabNumericalDifference.ipynb\" target=\"_parent\"><img src=\"https://colab.research.google.com/assets/colab-badge.svg\" alt=\"Open In Colab\"/></a>"
      ]
    },
    {
      "cell_type": "markdown",
      "metadata": {
        "id": "r5XfV-nzcIs5"
      },
      "source": [
        "Lab 1: Numerical Diferrentiation - Central Difference (Richardson Extrapolation)"
      ]
    },
    {
      "cell_type": "markdown",
      "metadata": {
        "id": "dgXPfdjEc9lH"
      },
      "source": [
        "This function 1\n",
        "\\begin {equation}\n",
        "y = x^3 +2x^2 - 8x - 9\n",
        "\\end {equation}"
      ]
    },
    {
      "cell_type": "code",
      "metadata": {
        "colab": {
          "base_uri": "https://localhost:8080/",
          "height": 316
        },
        "id": "tzhpVg_PXoFU",
        "outputId": "df533350-4792-47af-c205-0bf4dc2301e5"
      },
      "source": [
        "def func1(x):\n",
        "  return x**3+2*x**2-8*x - 10\n",
        "\n",
        "# Simple plot for 3rd order Cubic function\n",
        "import matplotlib.pyplot as pll\n",
        "import numpy as npp\n",
        "x = npp.arange(-5,5,0.05)\n",
        "f1 = func1(x) #taking function f1 as example of function 1\n",
        "pll.plot(x,f1, label = \"label f1\")\n",
        "pll.legend()\n",
        "pll.show()\n",
        "# This only function -, Central Difference Function.\n",
        "x_init = float((input(\"Enter initial guess value for x ==>\")))\n",
        "print(\"The value of x initial is ==>\", x_init)\n",
        "h = 0.005*x_init #1% of x_init value\n",
        "df1 = (func1(x_init+h) - func1(x_init-h))/(2*h)\n",
        "print (\"The Differentiation value for\", x_init, \"is\", df1)"
      ],
      "execution_count": null,
      "outputs": [
        {
          "data": {
            "image/png": "[encoded data removed]",
            "text/plain": [
              "<Figure size 432x288 with 1 Axes>"
            ]
          },
          "metadata": {},
          "output_type": "display_data"
        },
        {
          "name": "stdout",
          "output_type": "stream",
          "text": [
            "Enter initial guess value for x ==>4\n",
            "The value of x initial is ==> 4.0\n",
            "The Differentiation value for 4.0 is 56.00039999999922\n"
          ]
        }
      ]
    },
    {
      "cell_type": "code",
      "metadata": {
        "colab": {
          "base_uri": "https://localhost:8080/",
          "height": 334
        },
        "id": "HErL3rvXeZbf",
        "outputId": "ae9acf78-7c26-499f-a00c-19c620132a95"
      },
      "source": [
        "def func2(x,y):\n",
        "  return 3*x*y +2*y**2 + x**2 -2\n",
        "\n",
        "# Simple plot for 3rd order Cubic function\n",
        "import matplotlib.pyplot as pll\n",
        "import numpy as npp\n",
        "\n",
        "x = npp.arange(-5,5,0.05)\n",
        "y = npp.arange(-5,5,0.05)\n",
        "f2 = func2(x,y) #taking function f1 as example of function 1\n",
        "pll.plot(x,y,f2, label = \"label f2\")\n",
        "pll.legend()\n",
        "pll.show()\n",
        "\n",
        "# This only function -, Central Difference Function (partial differentiation)\n",
        "x_init = float((input(\"Enter initial guess value for x ==>\")))\n",
        "hx = 0.01*x_init #1% of x_init value\n",
        "y_init = float((input(\"Enter initial guess value for y ==>\")))\n",
        "hy = 0.01*y_init #1% of x_init value\n",
        "df1x = (func2(x_init+hx,y_init) - func2(x_init-hx,y_init))/(2*hx)\n",
        "print (\"The Differentiation of x value for\", x_init, \"is\", df1x)\n",
        "df1y = (func2(x_init,y_init+hy) - func2(x_init,y_init-hy))/(2*hy)\n",
        "print (\"The Differentiation of y value for\", y_init, \"is\", df1y)"
      ],
      "execution_count": null,
      "outputs": [
        {
          "output_type": "display_data",
          "data": {
            "image/png": "[encoded data removed]",
            "text/plain": [
              "<Figure size 432x288 with 1 Axes>"
            ]
          },
          "metadata": {
            "needs_background": "light"
          }
        },
        {
          "output_type": "stream",
          "name": "stdout",
          "text": [
            "Enter initial guess value for x ==>2\n",
            "Enter initial guess value for y ==>3\n",
            "The Differentiation of x value for 2.0 is 12.9999999999999\n",
            "The Differentiation of y value for 3.0 is 17.999999999999854\n"
          ]
        }
      ]
    },
    {
      "cell_type": "code",
      "metadata": {
        "colab": {
          "base_uri": "https://localhost:8080/",
          "height": 420
        },
        "id": "O5n3zHoFLF8K",
        "outputId": "3c36324d-ba5b-4f62-97fb-8956ef2c84bb"
      },
      "source": [
        "# Numerical Difference \n",
        "import matplotlib.pyplot as pll\n",
        "import numpy as npp\n",
        "import timeit\n",
        "\n",
        "def func2(x,y):\n",
        "  return 3*x*y +2*y**2 + x**2 -2\n",
        "\n",
        "def CentralDiff(xi,yi,hx,hy):\n",
        " df1x = (func2(xi+hx,yi) - func2(xi-hx,yi))/(2*hx)\n",
        " print (\"The Differentiation of x value for\", xi, \"is\", df1x)\n",
        " df1y = (func2(xi,yi+hy) - func2(xi,yi-hy))/(2*hy)\n",
        " print (\"The Differentiation of y value for\", yi, \"is\", df1y)\n",
        " return (df1x,df1y)\n",
        "\n",
        "x = npp.arange(-5,5,0.05)\n",
        "y = npp.arange(-5,5,0.05)\n",
        "f2 = func2(x,y) #taking function f1 as example of function 1\n",
        "pll.plot(x,y,f2, label = \"label f2\")\n",
        "pll.legend()\n",
        "pll.show()\n",
        "\n",
        "# This only function -, Central Difference Function (partial differentiation)\n",
        "x_init = float((input(\"Enter initial guess value for x ==>\")))\n",
        "y_init = float((input(\"Enter initial guess value for y ==>\")))\n",
        "st1 = timeit.timeit()\n",
        "[dfx1, dfy1] = CentralDiff(x_init,y_init,0.01*x_init,0.01*y_init)\n",
        "et1 = timeit.timeit()\n",
        "print (\"The time taken for 1st Central Diff =\", et1-st1)\n",
        "st2 = timeit.timeit()\n",
        "[dfx2, dfy2] = CentralDiff(x_init,y_init,0.005*x_init,0.005*y_init)\n",
        "et2 = timeit.timeit()\n",
        "print (\"The time taken for 2nd Central Diff =\", et2-st2)\n",
        "print (\"The Richarson Extrapolation for dfx\", (4*dfx2 - dfx1)/3)\n",
        "print (\"The Richarson Extrapolation for dfy\", (4*dfy2 - dfy1)/3)"
      ],
      "execution_count": 5,
      "outputs": [
        {
          "output_type": "display_data",
          "data": {
            "image/png": "[encoded data removed]",
            "text/plain": [
              "<Figure size 432x288 with 1 Axes>"
            ]
          },
          "metadata": {
            "needs_background": "light"
          }
        },
        {
          "output_type": "stream",
          "name": "stdout",
          "text": [
            "Enter initial guess value for x ==>2\n",
            "Enter initial guess value for y ==>3\n",
            "The Differentiation of x value for 2.0 is 12.9999999999999\n",
            "The Differentiation of y value for 3.0 is 17.999999999999854\n",
            "The time taken for 1st Central Diff = 0.001061975999959941\n",
            "The Differentiation of x value for 2.0 is 13.000000000000256\n",
            "The Differentiation of y value for 3.0 is 17.99999999999997\n",
            "The Richarson Extrapolation for dfx 13.000000000000375\n",
            "The Richarson Extrapolation for dfy 18.00000000000001\n"
          ]
        }
      ]
    },
    {
      "cell_type": "code",
      "metadata": {
        "id": "vxzn4nz-TUgG"
      },
      "source": [
        "# Numerical Difference [partial difference with thread]\n",
        "import matplotlib.pyplot as pll\n",
        "import numpy as npp\n",
        "import timeit\n",
        "\n",
        "def func2(x,y):\n",
        "  return 3*x*y +2*y**2 + x**2 -2\n",
        "\n",
        "def CentralDiff(xi,yi,hx,hy):\n",
        " df1x = (func2(xi+hx,yi) - func2(xi-hx,yi))/(2*hx)\n",
        " print (\"The Differentiation of x value for\", xi, \"is\", df1x)\n",
        " df1y = (func2(xi,yi+hy) - func2(xi,yi-hy))/(2*hy)\n",
        " print (\"The Differentiation of y value for\", yi, \"is\", df1y)\n",
        " return (df1x,df1y)\n",
        "\n",
        "x = npp.arange(-5,5,0.05)\n",
        "y = npp.arange(-5,5,0.05)\n",
        "f2 = func2(x,y) #taking function f1 as example of function 1\n",
        "pll.plot(x,y,f2, label = \"label f2\")\n",
        "pll.legend()\n",
        "pll.show()\n",
        "\n",
        "# This only function -, Central Difference Function (partial differentiation)\n",
        "x_init = float((input(\"Enter initial guess value for x ==>\")))\n",
        "y_init = float((input(\"Enter initial guess value for y ==>\")))\n",
        "st1 = timeit.timeit()\n",
        "[dfx1, dfy1] = CentralDiff(x_init,y_init,0.01*x_init,0.01*y_init)\n",
        "print (\"The time taken for 1st Central Diff =\", timeit.timeit()-st1)\n",
        "st2 = timeit.timeit()\n",
        "[dfx2, dfy2] = CentralDiff(x_init,y_init,0.005*x_init,0.005*y_init)\n",
        "et2 = timeit.timeit()\n",
        "print (\"The time taken for 2nd Central Diff =\", et2-st2)\n",
        "print (\"The Richarson Extrapolation for dfx\", (4*dfx2 - dfx1)/3)\n",
        "print (\"The Richarson Extrapolation for dfy\", (4*dfy2 - dfy1)/3)"
      ],
      "execution_count": null,
      "outputs": []
    },
    {
      "cell_type": "markdown",
      "metadata": {
        "id": "tsLRi4LihZUT"
      },
      "source": [
        ""
      ]
    }
  ]
}