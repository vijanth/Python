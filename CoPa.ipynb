{
  "nbformat": 4,
  "nbformat_minor": 0,
  "metadata": {
    "colab": {
      "name": "CoPa.ipynb",
      "provenance": [],
      "collapsed_sections": [],
      "authorship_tag": "ABX9TyNDsC81LzROLlimpAEzt4I2",
      "include_colab_link": true
    },
    "kernelspec": {
      "name": "python3",
      "display_name": "Python 3"
    }
  },
  "cells": [
    {
      "cell_type": "markdown",
      "metadata": {
        "id": "view-in-github",
        "colab_type": "text"
      },
      "source": [
        "<a href=\"https://colab.research.google.com/github/vijanth/Python/blob/master/CoPa.ipynb\" target=\"_parent\"><img src=\"https://colab.research.google.com/assets/colab-badge.svg\" alt=\"Open In Colab\"/></a>"
      ]
    },
    {
      "cell_type": "code",
      "metadata": {
        "id": "Z3_FV95yzw16",
        "colab_type": "code",
        "colab": {
          "base_uri": "https://localhost:8080/",
          "height": 187
        },
        "outputId": "9e3d0e9b-93aa-48c8-a39a-20d3be13f35a"
      },
      "source": [
        "from random import seed\n",
        "from random import random\n",
        "seed = 10;\n",
        "Y = []\n",
        "for i in range(10):\n",
        "  y = 1 + 10*random()\n",
        "  Y.insert(i,y)\n",
        "for i in range(10):\n",
        "  print(\"%6.2f\"%(Y[i]))\n",
        "\n"
      ],
      "execution_count": 10,
      "outputs": [
        {
          "output_type": "stream",
          "text": [
            "  9.66\n",
            "  9.68\n",
            "  2.98\n",
            "  1.71\n",
            "  2.59\n",
            "  8.70\n",
            "  3.78\n",
            "  2.26\n",
            "  3.96\n",
            "  6.26\n"
          ],
          "name": "stdout"
        }
      ]
    },
    {
      "cell_type": "markdown",
      "metadata": {
        "id": "jVH-rXssK16x",
        "colab_type": "text"
      },
      "source": [
        "# I want test a simple plot lah\n",
        "- How to plot and so on\n",
        "- This is how you put **good** comment\n",
        "- I also can have ***italic*** \n",
        "- how to underline use HTML 5 lah - <u> hello, do remember Wordstar </u>\n"
      ]
    }
  ]
}