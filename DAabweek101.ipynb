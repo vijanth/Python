{
  "nbformat": 4,
  "nbformat_minor": 0,
  "metadata": {
    "colab": {
      "name": "DAabweek101.ipynb",
      "provenance": [],
      "authorship_tag": "ABX9TyO4HcfKMpgUJnsOrqaDQopT",
      "include_colab_link": true
    },
    "kernelspec": {
      "name": "python3",
      "display_name": "Python 3"
    }
  },
  "cells": [
    {
      "cell_type": "markdown",
      "metadata": {
        "id": "view-in-github",
        "colab_type": "text"
      },
      "source": [
        "<a href=\"https://colab.research.google.com/github/vijanth/Python/blob/master/DAabweek101.ipynb\" target=\"_parent\"><img src=\"https://colab.research.google.com/assets/colab-badge.svg\" alt=\"Open In Colab\"/></a>"
      ]
    },
    {
      "cell_type": "code",
      "metadata": {
        "id": "SoAD1aB3LoTW",
        "colab_type": "code",
        "colab": {
          "base_uri": "https://localhost:8080/",
          "height": 131
        },
        "outputId": "39ecf2f2-0d87-4b92-907d-0ae47bcc741c"
      },
      "source": [
        "from random import seed\n",
        "from random import random\n",
        "from matplotlib import pyplot as plt\n",
        "seed(1)\n",
        "x = (input(\"roll your dice >\")\n",
        "Xint = 1 + 6*random()\n",
        "Z = []\n",
        "seed(1)\n",
        "#for j in range(Xint):\n",
        "# Y.insert(j, random())\n",
        "# Z.insert(j, j)\n",
        "#plt.plot(Z,Y)"
      ],
      "execution_count": 21,
      "outputs": [
        {
          "output_type": "error",
          "ename": "SyntaxError",
          "evalue": "ignored",
          "traceback": [
            "\u001b[0;36m  File \u001b[0;32m\"<ipython-input-21-dd158bfc16bc>\"\u001b[0;36m, line \u001b[0;32m6\u001b[0m\n\u001b[0;31m    Xint = 1 + 6*random()\u001b[0m\n\u001b[0m       ^\u001b[0m\n\u001b[0;31mSyntaxError\u001b[0m\u001b[0;31m:\u001b[0m invalid syntax\n"
          ]
        }
      ]
    },
    {
      "cell_type": "markdown",
      "metadata": {
        "id": "24Xm1jcUhWwj",
        "colab_type": "text"
      },
      "source": [
        ""
      ]
    },
    {
      "cell_type": "markdown",
      "metadata": {
        "id": "HtvkY03YhWkA",
        "colab_type": "text"
      },
      "source": [
        "0"
      ]
    }
  ]
}