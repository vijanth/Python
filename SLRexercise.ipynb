{
  "nbformat": 4,
  "nbformat_minor": 0,
  "metadata": {
    "colab": {
      "name": "SLRexercise.ipynb",
      "provenance": [],
      "include_colab_link": true
    },
    "kernelspec": {
      "name": "python3",
      "display_name": "Python 3"
    }
  },
  "cells": [
    {
      "cell_type": "markdown",
      "metadata": {
        "id": "view-in-github",
        "colab_type": "text"
      },
      "source": [
        "<a href=\"https://colab.research.google.com/github/vijanth/Python/blob/master/SLRexercise.ipynb\" target=\"_parent\"><img src=\"https://colab.research.google.com/assets/colab-badge.svg\" alt=\"Open In Colab\"/></a>"
      ]
    },
    {
      "cell_type": "code",
      "metadata": {
        "colab_type": "code",
        "outputId": "dbaa30dc-e8e0-4765-9869-1df760b874e7",
        "id": "EvOne4wdilNg",
        "colab": {
          "base_uri": "https://localhost:8080/",
          "height": 486
        }
      },
      "source": [
        "import numpy as nu #Vijanth - 13/6 Single Linear Regression using Python - Example 1\n",
        "from matplotlib import pyplot as pll\n",
        "from scipy.stats import t,f\n",
        "x = nu.array([4.51,3.58,4.31,5.06, 5.64, 4.99, 5.29, 5.83, 4.7, 5.61, 4.9, 4.2])\n",
        "y = nu.array([2.48, 2.26, 2.47, 2.77,2.99,3.05,3.18,3.46,3.03,3.26,2.67, 2.53])\n",
        "n = nu.size(x) # find number of obervation\n",
        "xMean = nu.mean(x) # find mean of x\n",
        "yMean = nu.mean(y)  # find the mean of y\n",
        "BB = nu.sum(nu.multiply(nu.subtract(x,xMean),nu.subtract(y,yMean)))/nu.sum(nu.power(nu.subtract(x,xMean),2))\n",
        "B1 = ((n)*(xy) - (xSum)*(ySum))/(n*(xx) -(xSum)*(xSum)) # compute B1\n",
        "B0 = yMean - B1*(xMean) # compute B0\n",
        "yEst = B0 + nu.multiply(B1,x) # Y estimation for SLR\n",
        "xlin = nu.linspace(nu.floor(min(x)),nu.ceil(max(x)),n) # sorted x is needed to plot YEst line\n",
        "yEst1 =B0 + nu.multiply(B1,xlin) # Y estimate based on x sorted\n",
        "print(\"The parameters: \\nB0 =% 6.4f, \\nB1 =% 6.4f\"%(B0, B1)) # display parameter\n",
        "pll.plot(y, 'ro') # plot y - observed response\n",
        "pll.plot(yEst1) # plot Y estimate based on \n",
        "SST = nu.sum(nu.power(nu.subtract(y,yMean),2)) # Anova section - finding SST\n",
        "SSE = nu.sum(nu.power(nu.subtract(y,yEst),2)) # Anova section - finding SSE\n",
        "SSR = SST - SSE\n",
        "MSR = SSR/1\n",
        "MSE = SSE/(n-2)\n",
        "MST = SST/(n-1)\n",
        "F = MSR/MSE # find F calculated value\n",
        "print(\"SS Regression >\" ,1, SSR, MSR, F)\n",
        "print(\"SS Error      >\", n-2, SSE, MSE)\n",
        "print(\"SS Total      >\",n-1, SST)\n",
        "print(\"Coefficient of Determination -- >R2 = \", SSR/SST)\n",
        "print(\"Standard Error Estimate = \", nu.sqrt(MSE))\n",
        "alph = 0.05  # level of significance\n",
        "SeB1 = nu.sqrt((MSE)/(nu.sum(nu.power(nu.subtract(x,xMean),2))))\n",
        "Tcal = B1/SeB1 # Tcal assume B1-population is zero for Ho\n",
        "Tregion = t.ppf((1-alph/2),n-2)\n",
        "if nu.absolute(Tcal) > Tregion:\n",
        "  print(\"T calculated value %f > T in table %f\\nhence Ho is rejected, y depend on x\"%(Tcal,Tregion))\n",
        "  print(\"The confidence interval of B1 => [%f6.4 , %f6.4]\"%(B1-Tregion*SeB1, B1+Tregion*SeB1))\n",
        "else:\n",
        "  print(\"Failed to reject Ho, there is No dependencis between y and x\")\n",
        "Fregion = f.ppf((1-alph),1,n-2) # F - Test\n",
        "if F > Fregion:\n",
        "   print(\"F calculated Value %f, >F in table %f\\nhence Ho is rejected, y depend on x\"%(F,Fregion))\n",
        "else:\n",
        "   print(\"Failed to reject Ho, there is No dependencies between y and x\")   "
      ],
      "execution_count": 0,
      "outputs": [
        {
          "output_type": "stream",
          "text": [
            "The parameters: \n",
            "B0 = 0.4090, \n",
            "B1 = 0.4988\n",
            "SS Regression > 1 1.2123816683086022 1.2123816683086022 40.5329703107169\n",
            "SS Error      > 10 0.2991099983580648 0.02991099983580648\n",
            "SS Total      > 11 1.511491666666667\n",
            "Coefficient of Determination -- >R2 =  0.8021093963305137\n",
            "Standard Error Estimate =  0.17294796857958894\n",
            "T calculated value 6.366551 > T in table 2.228139\n",
            "hence Ho is rejected, y depend on x\n",
            "The confidence interval of B1 => [0.3242526.4 , 0.6734096.4]\n",
            "F calculated Value 40.532970, >F in table 4.964603\n",
            "hence Ho is rejected, y depend on x\n"
          ],
          "name": "stdout"
        },
        {
          "output_type": "display_data",
          "data": {
            "image/png": "[encoded data removed]",
            "text/plain": [
              "<Figure size 432x288 with 1 Axes>"
            ]
          },
          "metadata": {
            "tags": [],
            "needs_background": "light"
          }
        }
      ]
    },
    {
      "cell_type": "markdown",
      "metadata": {
        "id": "cfoi-g7mV08t",
        "colab_type": "text"
      },
      "source": [
        "\n",
        "\n"
      ]
    },
    {
      "cell_type": "code",
      "metadata": {
        "id": "ULC4K1JBWBSB",
        "colab_type": "code",
        "colab": {}
      },
      "source": [
        ""
      ],
      "execution_count": 0,
      "outputs": []
    },
    {
      "cell_type": "markdown",
      "metadata": {
        "id": "YPokifOlWBec",
        "colab_type": "text"
      },
      "source": [
        ""
      ]
    }
  ]
}