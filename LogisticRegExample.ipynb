{
  "nbformat": 4,
  "nbformat_minor": 0,
  "metadata": {
    "colab": {
      "provenance": [],
      "authorship_tag": "ABX9TyM1FC3lUoh2U2cIK4kKOcAL",
      "include_colab_link": true
    },
    "kernelspec": {
      "name": "python3",
      "display_name": "Python 3"
    }
  },
  "cells": [
    {
      "cell_type": "markdown",
      "metadata": {
        "id": "view-in-github",
        "colab_type": "text"
      },
      "source": [
        "<a href=\"https://colab.research.google.com/github/vijanth/Python/blob/master/LogisticRegExample.ipynb\" target=\"_parent\"><img src=\"https://colab.research.google.com/assets/colab-badge.svg\" alt=\"Open In Colab\"/></a>"
      ]
    },
    {
      "cell_type": "code",
      "metadata": {
        "id": "TnlR7BvWzr3l"
      },
      "source": [],
      "execution_count": null,
      "outputs": []
    },
    {
      "cell_type": "code",
      "metadata": {
        "id": "o_d0-qbQB5fS",
        "colab": {
          "base_uri": "https://localhost:8080/",
          "height": 104
        },
        "outputId": "f712991f-5164-4468-8234-32cd3f33cd7f"
      },
      "source": [
        "import numpy as nu\n",
        "from sklearn.linear_model import LogisticRegression\n",
        "x = nu.array([[3000],[1200],[3700], [1500], [1800], [1400], [4200],[580], [3390],[245]])\n",
        "y = nu.array([1,0,1,0,0,0,1,0,1,0])\n",
        "xtest = nu.array([[1970],[2845],[4656], [5800], [900]])\n",
        "ytest = nu.array([0,1,1,1,1])                 \n",
        "mdl = LogisticRegression()\n",
        "mdl.fit(x,y)\n",
        "bt0 = mdl.intercept_\n",
        "bt1 = mdl.coef_\n",
        "print(\"The parameters are >\",bt0, bt1)\n",
        "yhat = mdl.predict(xtest)\n",
        "print(ytest)\n",
        "print(yhat)\n",
        "print(\"Score =>\", mdl.score(xtest,ytest))\n",
        "xx = 3000\n",
        "y = (bt0+bt1*xx)\n",
        "yy = nu.exp(y)/(1+nu.exp(y))\n",
        "print(yy)"
      ],
      "execution_count": null,
      "outputs": [
        {
          "output_type": "stream",
          "text": [
            "The parameters are > [-44.34357702] [[0.01847566]]\n",
            "[0 1 1 1 1]\n",
            "[0 1 1 1 0]\n",
            "Score => 0.8\n",
            "[[0.99998463]]\n"
          ],
          "name": "stdout"
        }
      ]
    },
    {
      "cell_type": "code",
      "metadata": {
        "id": "lAY3Vu979qOv"
      },
      "source": [],
      "execution_count": null,
      "outputs": []
    }
  ]
}